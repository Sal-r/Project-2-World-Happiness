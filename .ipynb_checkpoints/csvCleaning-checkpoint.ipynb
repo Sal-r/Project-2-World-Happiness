{
 "cells": [
  {
   "cell_type": "code",
   "execution_count": 1,
   "metadata": {},
   "outputs": [],
   "source": [
    "import pandas as pd\n",
    "from functools import reduce"
   ]
  },
  {
   "cell_type": "code",
   "execution_count": 2,
   "metadata": {},
   "outputs": [],
   "source": [
    "df_15 = pd.read_csv(\"2015_happiness.csv\") \n",
    "df_16 = pd.read_csv(\"2016_happiness.csv\") \n",
    "df_17 = pd.read_csv(\"2017_happiness.csv\") \n",
    "df_18 = pd.read_csv(\"2018_happiness.csv\") \n",
    "df_19 = pd.read_csv(\"2019_happiness.csv\") "
   ]
  },
  {
   "cell_type": "code",
   "execution_count": 6,
   "metadata": {},
   "outputs": [],
   "source": [
    "df_15 = df_15[['Country', 'HappinessScore']]\n",
    "df_16 = df_16[['Country', 'HappinessScore']]\n",
    "df_17 = df_17[['Country', 'HappinessScore']]\n",
    "df_18 = df_18[['Country', 'HappinessScore']]\n",
    "df_19 = df_19[['Country', 'HappinessScore']]"
   ]
  },
  {
   "cell_type": "code",
   "execution_count": 7,
   "metadata": {},
   "outputs": [],
   "source": [
    "df_15 = df_15.rename(columns={'HappinessScore':'HappinessScore2015'})\n",
    "df_16 = df_16.rename(columns={'HappinessScore':'HappinessScore2016'})\n",
    "df_17 = df_17.rename(columns={'HappinessScore':'HappinessScore2017'})\n",
    "df_18 = df_18.rename(columns={'HappinessScore':'HappinessScore2018'})\n",
    "df_19 = df_19.rename(columns={'HappinessScore':'HappinessScore2019'})\n",
    "\n",
    "data_frames = [df_15, df_16, df_17, df_18, df_19]"
   ]
  },
  {
   "cell_type": "code",
   "execution_count": 8,
   "metadata": {},
   "outputs": [],
   "source": [
    "df_merged = reduce(lambda  left,right: pd.merge(left,right,on=['Country'],\n",
    "                                            how='outer'), data_frames).fillna('void')"
   ]
  },
  {
   "cell_type": "code",
   "execution_count": 9,
   "metadata": {},
   "outputs": [
    {
     "data": {
      "text/html": [
       "<div>\n",
       "<style scoped>\n",
       "    .dataframe tbody tr th:only-of-type {\n",
       "        vertical-align: middle;\n",
       "    }\n",
       "\n",
       "    .dataframe tbody tr th {\n",
       "        vertical-align: top;\n",
       "    }\n",
       "\n",
       "    .dataframe thead th {\n",
       "        text-align: right;\n",
       "    }\n",
       "</style>\n",
       "<table border=\"1\" class=\"dataframe\">\n",
       "  <thead>\n",
       "    <tr style=\"text-align: right;\">\n",
       "      <th></th>\n",
       "      <th>Country</th>\n",
       "      <th>HappinessScore2015</th>\n",
       "      <th>HappinessScore2016</th>\n",
       "      <th>HappinessScore2017</th>\n",
       "      <th>HappinessScore2018</th>\n",
       "      <th>HappinessScore2019</th>\n",
       "    </tr>\n",
       "  </thead>\n",
       "  <tbody>\n",
       "    <tr>\n",
       "      <th>0</th>\n",
       "      <td>Switzerland</td>\n",
       "      <td>7.587</td>\n",
       "      <td>7.509</td>\n",
       "      <td>7.494</td>\n",
       "      <td>7.487</td>\n",
       "      <td>7.48</td>\n",
       "    </tr>\n",
       "    <tr>\n",
       "      <th>1</th>\n",
       "      <td>Iceland</td>\n",
       "      <td>7.561</td>\n",
       "      <td>7.501</td>\n",
       "      <td>7.504</td>\n",
       "      <td>7.495</td>\n",
       "      <td>7.494</td>\n",
       "    </tr>\n",
       "    <tr>\n",
       "      <th>2</th>\n",
       "      <td>Denmark</td>\n",
       "      <td>7.527</td>\n",
       "      <td>7.526</td>\n",
       "      <td>7.522</td>\n",
       "      <td>7.555</td>\n",
       "      <td>7.6</td>\n",
       "    </tr>\n",
       "    <tr>\n",
       "      <th>3</th>\n",
       "      <td>Norway</td>\n",
       "      <td>7.522</td>\n",
       "      <td>7.498</td>\n",
       "      <td>7.537</td>\n",
       "      <td>7.594</td>\n",
       "      <td>7.554</td>\n",
       "    </tr>\n",
       "    <tr>\n",
       "      <th>4</th>\n",
       "      <td>Canada</td>\n",
       "      <td>7.427</td>\n",
       "      <td>7.404</td>\n",
       "      <td>7.316</td>\n",
       "      <td>7.328</td>\n",
       "      <td>7.278</td>\n",
       "    </tr>\n",
       "  </tbody>\n",
       "</table>\n",
       "</div>"
      ],
      "text/plain": [
       "       Country HappinessScore2015 HappinessScore2016 HappinessScore2017  \\\n",
       "0  Switzerland              7.587              7.509              7.494   \n",
       "1      Iceland              7.561              7.501              7.504   \n",
       "2      Denmark              7.527              7.526              7.522   \n",
       "3       Norway              7.522              7.498              7.537   \n",
       "4       Canada              7.427              7.404              7.316   \n",
       "\n",
       "  HappinessScore2018 HappinessScore2019  \n",
       "0              7.487               7.48  \n",
       "1              7.495              7.494  \n",
       "2              7.555                7.6  \n",
       "3              7.594              7.554  \n",
       "4              7.328              7.278  "
      ]
     },
     "execution_count": 9,
     "metadata": {},
     "output_type": "execute_result"
    }
   ],
   "source": [
    "df_merged.head()"
   ]
  },
  {
   "cell_type": "code",
   "execution_count": 12,
   "metadata": {},
   "outputs": [],
   "source": [
    "df_merged.to_csv('merged_HappinessScore.csv', encoding='utf-8', index=False)"
   ]
  },
  {
   "cell_type": "code",
   "execution_count": null,
   "metadata": {},
   "outputs": [],
   "source": []
  }
 ],
 "metadata": {
  "kernelspec": {
   "display_name": "Python 3",
   "language": "python",
   "name": "python3"
  },
  "language_info": {
   "codemirror_mode": {
    "name": "ipython",
    "version": 3
   },
   "file_extension": ".py",
   "mimetype": "text/x-python",
   "name": "python",
   "nbconvert_exporter": "python",
   "pygments_lexer": "ipython3",
   "version": "3.6.8"
  }
 },
 "nbformat": 4,
 "nbformat_minor": 2
}
